{
  "nbformat": 4,
  "nbformat_minor": 0,
  "metadata": {
    "colab": {
      "name": "Concrete Dropout on Mergers.ipynb",
      "provenance": [],
      "collapsed_sections": [],
      "include_colab_link": true
    },
    "kernelspec": {
      "name": "python3",
      "display_name": "Python 3"
    },
    "accelerator": "GPU"
  },
  "cells": [
    {
      "cell_type": "markdown",
      "metadata": {
        "id": "view-in-github",
        "colab_type": "text"
      },
      "source": [
        "<a href=\"https://colab.research.google.com/github/AleksCipri/Concrete-Dropout---Mergers/blob/master/Concrete_Dropout_on_Mergers.ipynb\" target=\"_parent\"><img src=\"https://colab.research.google.com/assets/colab-badge.svg\" alt=\"Open In Colab\"/></a>"
      ]
    },
    {
      "cell_type": "code",
      "metadata": {
        "id": "kn2cbxv4wM_d",
        "colab_type": "code",
        "outputId": "216ece60-65b1-46bb-eaef-041f4ed48e5d",
        "colab": {
          "base_uri": "https://localhost:8080/",
          "height": 187
        }
      },
      "source": [
        "!pip show keras"
      ],
      "execution_count": 0,
      "outputs": [
        {
          "output_type": "stream",
          "text": [
            "Name: Keras\n",
            "Version: 2.2.5\n",
            "Summary: Deep Learning for humans\n",
            "Home-page: https://github.com/keras-team/keras\n",
            "Author: Francois Chollet\n",
            "Author-email: francois.chollet@gmail.com\n",
            "License: MIT\n",
            "Location: /usr/local/lib/python3.6/dist-packages\n",
            "Requires: keras-applications, h5py, six, numpy, scipy, keras-preprocessing, pyyaml\n",
            "Required-by: textgenrnn, keras-vis, kapre, fancyimpute\n"
          ],
          "name": "stdout"
        }
      ]
    },
    {
      "cell_type": "code",
      "metadata": {
        "id": "jclQvkpkwUd_",
        "colab_type": "code",
        "outputId": "24526570-aaa7-4835-a6ce-c49de33f5a0c",
        "colab": {
          "base_uri": "https://localhost:8080/",
          "height": 187
        }
      },
      "source": [
        "!pip uninstall keras"
      ],
      "execution_count": 0,
      "outputs": [
        {
          "output_type": "stream",
          "text": [
            "Uninstalling Keras-2.2.5:\n",
            "  Would remove:\n",
            "    /usr/local/lib/python3.6/dist-packages/Keras-2.2.5.dist-info/*\n",
            "    /usr/local/lib/python3.6/dist-packages/docs/*\n",
            "    /usr/local/lib/python3.6/dist-packages/keras/*\n",
            "  Would not remove (might be manually added):\n",
            "    /usr/local/lib/python3.6/dist-packages/docs/md_autogen.py\n",
            "    /usr/local/lib/python3.6/dist-packages/docs/update_docs.py\n",
            "Proceed (y/n)? y\n",
            "  Successfully uninstalled Keras-2.2.5\n"
          ],
          "name": "stdout"
        }
      ]
    },
    {
      "cell_type": "code",
      "metadata": {
        "id": "A9vN6D_vwkM2",
        "colab_type": "code",
        "outputId": "d7dca22a-fdad-4a99-bc27-319660cfda1b",
        "colab": {
          "base_uri": "https://localhost:8080/",
          "height": 241
        }
      },
      "source": [
        "!pip install keras==2.2.4"
      ],
      "execution_count": 0,
      "outputs": [
        {
          "output_type": "stream",
          "text": [
            "Collecting keras==2.2.4\n",
            "\u001b[?25l  Downloading https://files.pythonhosted.org/packages/5e/10/aa32dad071ce52b5502266b5c659451cfd6ffcbf14e6c8c4f16c0ff5aaab/Keras-2.2.4-py2.py3-none-any.whl (312kB)\n",
            "\r\u001b[K     |█                               | 10kB 28.5MB/s eta 0:00:01\r\u001b[K     |██                              | 20kB 2.9MB/s eta 0:00:01\r\u001b[K     |███▏                            | 30kB 4.2MB/s eta 0:00:01\r\u001b[K     |████▏                           | 40kB 2.8MB/s eta 0:00:01\r\u001b[K     |█████▎                          | 51kB 3.4MB/s eta 0:00:01\r\u001b[K     |██████▎                         | 61kB 4.1MB/s eta 0:00:01\r\u001b[K     |███████▍                        | 71kB 4.7MB/s eta 0:00:01\r\u001b[K     |████████▍                       | 81kB 5.4MB/s eta 0:00:01\r\u001b[K     |█████████▍                      | 92kB 6.0MB/s eta 0:00:01\r\u001b[K     |██████████▌                     | 102kB 4.6MB/s eta 0:00:01\r\u001b[K     |███████████▌                    | 112kB 4.6MB/s eta 0:00:01\r\u001b[K     |████████████▋                   | 122kB 4.6MB/s eta 0:00:01\r\u001b[K     |█████████████▋                  | 133kB 4.6MB/s eta 0:00:01\r\u001b[K     |██████████████▊                 | 143kB 4.6MB/s eta 0:00:01\r\u001b[K     |███████████████▊                | 153kB 4.6MB/s eta 0:00:01\r\u001b[K     |████████████████▊               | 163kB 4.6MB/s eta 0:00:01\r\u001b[K     |█████████████████▉              | 174kB 4.6MB/s eta 0:00:01\r\u001b[K     |██████████████████▉             | 184kB 4.6MB/s eta 0:00:01\r\u001b[K     |████████████████████            | 194kB 4.6MB/s eta 0:00:01\r\u001b[K     |█████████████████████           | 204kB 4.6MB/s eta 0:00:01\r\u001b[K     |██████████████████████          | 215kB 4.6MB/s eta 0:00:01\r\u001b[K     |███████████████████████         | 225kB 4.6MB/s eta 0:00:01\r\u001b[K     |████████████████████████▏       | 235kB 4.6MB/s eta 0:00:01\r\u001b[K     |█████████████████████████▏      | 245kB 4.6MB/s eta 0:00:01\r\u001b[K     |██████████████████████████▏     | 256kB 4.6MB/s eta 0:00:01\r\u001b[K     |███████████████████████████▎    | 266kB 4.6MB/s eta 0:00:01\r\u001b[K     |████████████████████████████▎   | 276kB 4.6MB/s eta 0:00:01\r\u001b[K     |█████████████████████████████▍  | 286kB 4.6MB/s eta 0:00:01\r\u001b[K     |██████████████████████████████▍ | 296kB 4.6MB/s eta 0:00:01\r\u001b[K     |███████████████████████████████▌| 307kB 4.6MB/s eta 0:00:01\r\u001b[K     |████████████████████████████████| 317kB 4.6MB/s \n",
            "\u001b[?25hRequirement already satisfied: keras-preprocessing>=1.0.5 in /usr/local/lib/python3.6/dist-packages (from keras==2.2.4) (1.1.0)\n",
            "Requirement already satisfied: six>=1.9.0 in /usr/local/lib/python3.6/dist-packages (from keras==2.2.4) (1.12.0)\n",
            "Requirement already satisfied: keras-applications>=1.0.6 in /usr/local/lib/python3.6/dist-packages (from keras==2.2.4) (1.0.8)\n",
            "Requirement already satisfied: pyyaml in /usr/local/lib/python3.6/dist-packages (from keras==2.2.4) (3.13)\n",
            "Requirement already satisfied: numpy>=1.9.1 in /usr/local/lib/python3.6/dist-packages (from keras==2.2.4) (1.17.4)\n",
            "Requirement already satisfied: scipy>=0.14 in /usr/local/lib/python3.6/dist-packages (from keras==2.2.4) (1.3.3)\n",
            "Requirement already satisfied: h5py in /usr/local/lib/python3.6/dist-packages (from keras==2.2.4) (2.8.0)\n",
            "Installing collected packages: keras\n",
            "Successfully installed keras-2.2.4\n"
          ],
          "name": "stdout"
        }
      ]
    },
    {
      "cell_type": "markdown",
      "metadata": {
        "id": "sEvp8jY6u43o",
        "colab_type": "text"
      },
      "source": [
        "Based on https://github.com/yaringal/ConcreteDropout/blob/master/spatial-concrete-dropout-keras.ipynb"
      ]
    },
    {
      "cell_type": "code",
      "metadata": {
        "id": "YVLEVp3JuxeQ",
        "colab_type": "code",
        "outputId": "db2850f8-8cac-40fe-8255-be735b3a50df",
        "colab": {
          "base_uri": "https://localhost:8080/",
          "height": 80
        }
      },
      "source": [
        "import sys\n",
        "import numpy as np\n",
        "np.random.seed(5)\n",
        "import os\n",
        "import codecs\n",
        "import json\n",
        "from numpy import random\n",
        "from matplotlib import pyplot as plt\n",
        "\n",
        "from keras.utils import to_categorical\n",
        "import keras.backend as K\n",
        "from keras import initializers\n",
        "from keras.engine import InputSpec\n",
        "from keras.layers import Wrapper\n",
        "\n",
        "import keras\n",
        "from keras.datasets import mnist\n",
        "from keras.models import Sequential\n",
        "from keras.layers import Dense, Dropout, Flatten\n",
        "from keras.layers import Conv2D, MaxPooling2D, BatchNormalization\n",
        "\n",
        "from keras.callbacks import Callback, ModelCheckpoint\n",
        "from keras.callbacks import EarlyStopping\n",
        "import json\n",
        "\n",
        "from sklearn import metrics\n",
        "from sklearn.metrics import confusion_matrix\n",
        "from sklearn.metrics import roc_curve\n",
        "from sklearn.metrics import roc_auc_score\n",
        "\n",
        "from sklearn.metrics import accuracy_score\n",
        "from sklearn.metrics import precision_score\n",
        "from sklearn.metrics import recall_score\n",
        "from sklearn.metrics import f1_score\n",
        "from sklearn.metrics import brier_score_loss"
      ],
      "execution_count": 0,
      "outputs": [
        {
          "output_type": "stream",
          "text": [
            "Using TensorFlow backend.\n"
          ],
          "name": "stderr"
        },
        {
          "output_type": "display_data",
          "data": {
            "text/html": [
              "<p style=\"color: red;\">\n",
              "The default version of TensorFlow in Colab will soon switch to TensorFlow 2.x.<br>\n",
              "We recommend you <a href=\"https://www.tensorflow.org/guide/migrate\" target=\"_blank\">upgrade</a> now \n",
              "or ensure your notebook will continue to use TensorFlow 1.x via the <code>%tensorflow_version 1.x</code> magic:\n",
              "<a href=\"https://colab.research.google.com/notebooks/tensorflow_version.ipynb\" target=\"_blank\">more info</a>.</p>\n"
            ],
            "text/plain": [
              "<IPython.core.display.HTML object>"
            ]
          },
          "metadata": {
            "tags": []
          }
        }
      ]
    },
    {
      "cell_type": "code",
      "metadata": {
        "id": "InfT5Ekzu-ij",
        "colab_type": "code",
        "colab": {}
      },
      "source": [
        "class SpatialConcreteDropout(Wrapper):\n",
        "    \"\"\"This wrapper allows to learn the dropout probability for any given Conv2D input layer.\n",
        "    ```python\n",
        "        model = Sequential()\n",
        "        model.add(ConcreteDropout(Conv2D(64, (3, 3)),\n",
        "                                  input_shape=(299, 299, 3)))\n",
        "    ```\n",
        "    # Arguments\n",
        "        layer: a layer instance.\n",
        "        weight_regularizer:\n",
        "            A positive number which satisfies\n",
        "                $weight_regularizer = l**2 / (\\tau * N)$\n",
        "            with prior lengthscale l, model precision $\\tau$ (inverse observation noise),\n",
        "            and N the number of instances in the dataset.\n",
        "            Note that kernel_regularizer is not needed.\n",
        "        dropout_regularizer:\n",
        "            A positive number which satisfies\n",
        "                $dropout_regularizer = 2 / (\\tau * N)$\n",
        "            with model precision $\\tau$ (inverse observation noise) and N the number of\n",
        "            instances in the dataset.\n",
        "            Note the relation between dropout_regularizer and weight_regularizer:\n",
        "                $weight_regularizer / dropout_regularizer = l**2 / 2$\n",
        "            with prior lengthscale l. Note also that the factor of two should be\n",
        "            ignored for cross-entropy loss, and used only for the eculedian loss.\n",
        "    \"\"\"\n",
        "    def __init__(self, layer, weight_regularizer=1e-6, dropout_regularizer=1e-5,\n",
        "                 init_min=0.1, init_max=0.1, is_mc_dropout=True, data_format=None, **kwargs):\n",
        "        assert 'kernel_regularizer' not in kwargs\n",
        "        super(SpatialConcreteDropout, self).__init__(layer, **kwargs)\n",
        "        self.weight_regularizer = weight_regularizer\n",
        "        self.dropout_regularizer = dropout_regularizer\n",
        "        self.is_mc_dropout = is_mc_dropout\n",
        "        self.supports_masking = True\n",
        "        self.p_logit = None\n",
        "        self.p = None\n",
        "        self.init_min = np.log(init_min) - np.log(1. - init_min)\n",
        "        self.init_max = np.log(init_max) - np.log(1. - init_max)\n",
        "        self.data_format = 'channels_last' if data_format is None else 'channels_first'\n",
        "\n",
        "    def build(self, input_shape=None):\n",
        "        self.input_spec = InputSpec(shape=input_shape)\n",
        "        if not self.layer.built:\n",
        "            self.layer.build(input_shape)\n",
        "            self.layer.built = True\n",
        "        super(SpatialConcreteDropout, self).build()  # this is very weird.. we must call super before we add new losses\n",
        "\n",
        "        # initialise p\n",
        "        self.p_logit = self.layer.add_weight(name='p_logit',\n",
        "                                            shape=(1,),\n",
        "                                            initializer=initializers.RandomUniform(self.init_min, self.init_max),\n",
        "                                            trainable=True)\n",
        "        self.p = K.sigmoid(self.p_logit[0])\n",
        "\n",
        "        # initialise regulariser / prior KL term\n",
        "        assert len(input_shape) == 4, 'this wrapper only supports Conv2D layers'\n",
        "        if self.data_format == 'channels_first':\n",
        "            input_dim = input_shape[1] # we drop only channels\n",
        "        else:\n",
        "            input_dim = input_shape[3]\n",
        "        \n",
        "        weight = self.layer.kernel\n",
        "        kernel_regularizer = self.weight_regularizer * K.sum(K.square(weight)) / (1. - self.p)\n",
        "        dropout_regularizer = self.p * K.log(self.p)\n",
        "        dropout_regularizer += (1. - self.p) * K.log(1. - self.p)\n",
        "        dropout_regularizer *= self.dropout_regularizer * input_dim\n",
        "        regularizer = K.sum(kernel_regularizer + dropout_regularizer)\n",
        "        self.layer.add_loss(regularizer)\n",
        "\n",
        "    def compute_output_shape(self, input_shape):\n",
        "        return self.layer.compute_output_shape(input_shape)\n",
        "\n",
        "    def spatial_concrete_dropout(self, x):\n",
        "        '''\n",
        "        Concrete dropout - used at training time (gradients can be propagated)\n",
        "        :param x: input\n",
        "        :return:  approx. dropped out input\n",
        "        '''\n",
        "        eps = K.cast_to_floatx(K.epsilon())\n",
        "        temp = 2. / 3.\n",
        "\n",
        "        input_shape = K.shape(x)\n",
        "        if self.data_format == 'channels_first':\n",
        "            noise_shape = (input_shape[0], input_shape[1], 1, 1)\n",
        "        else:\n",
        "            noise_shape = (input_shape[0], 1, 1, input_shape[3])\n",
        "        unif_noise = K.random_uniform(shape=noise_shape)\n",
        "        \n",
        "        drop_prob = (\n",
        "            K.log(self.p + eps)\n",
        "            - K.log(1. - self.p + eps)\n",
        "            + K.log(unif_noise + eps)\n",
        "            - K.log(1. - unif_noise + eps)\n",
        "        )\n",
        "        drop_prob = K.sigmoid(drop_prob / temp)\n",
        "        random_tensor = 1. - drop_prob\n",
        "\n",
        "        retain_prob = 1. - self.p\n",
        "        x *= random_tensor\n",
        "        x /= retain_prob\n",
        "        return x\n",
        "\n",
        "    def call(self, inputs, training=None):\n",
        "        if self.is_mc_dropout:\n",
        "            return self.layer.call(self.spatial_concrete_dropout(inputs))\n",
        "        else:\n",
        "            def relaxed_dropped_inputs():\n",
        "                return self.layer.call(self.spatial_concrete_dropout(inputs))\n",
        "            return K.in_train_phase(relaxed_dropped_inputs,\n",
        "                                    self.layer.call(inputs),\n",
        "                                    training=training)"
      ],
      "execution_count": 0,
      "outputs": []
    },
    {
      "cell_type": "code",
      "metadata": {
        "id": "Xz2WeS7lxEjs",
        "colab_type": "code",
        "colab": {}
      },
      "source": [
        "class ConcreteDropout(Wrapper):\n",
        "    \"\"\"This wrapper allows to learn the dropout probability for any given input Dense layer.\n",
        "    ```python\n",
        "        # as the first layer in a model\n",
        "        model = Sequential()\n",
        "        model.add(ConcreteDropout(Dense(8), input_shape=(16)))\n",
        "        # now model.output_shape == (None, 8)\n",
        "        # subsequent layers: no need for input_shape\n",
        "        model.add(ConcreteDropout(Dense(32)))\n",
        "        # now model.output_shape == (None, 32)\n",
        "    ```\n",
        "    `ConcreteDropout` can be used with arbitrary layers which have 2D\n",
        "    kernels, not just `Dense`. However, Conv2D layers require different\n",
        "    weighing of the regulariser (use SpatialConcreteDropout instead).\n",
        "    # Arguments\n",
        "        layer: a layer instance.\n",
        "        weight_regularizer:\n",
        "            A positive number which satisfies\n",
        "                $weight_regularizer = l**2 / (\\tau * N)$\n",
        "            with prior lengthscale l, model precision $\\tau$ (inverse observation noise),\n",
        "            and N the number of instances in the dataset.\n",
        "            Note that kernel_regularizer is not needed.\n",
        "        dropout_regularizer:\n",
        "            A positive number which satisfies\n",
        "                $dropout_regularizer = 2 / (\\tau * N)$\n",
        "            with model precision $\\tau$ (inverse observation noise) and N the number of\n",
        "            instances in the dataset.\n",
        "            Note the relation between dropout_regularizer and weight_regularizer:\n",
        "                $weight_regularizer / dropout_regularizer = l**2 / 2$\n",
        "            with prior lengthscale l. Note also that the factor of two should be\n",
        "            ignored for cross-entropy loss, and used only for the eculedian loss.\n",
        "    \"\"\"\n",
        "\n",
        "    def __init__(self, layer, weight_regularizer=1e-6, dropout_regularizer=1e-5,\n",
        "                 init_min=0.1, init_max=0.1, is_mc_dropout=True, **kwargs):\n",
        "        assert 'kernel_regularizer' not in kwargs\n",
        "        super(ConcreteDropout, self).__init__(layer, **kwargs)\n",
        "        self.weight_regularizer = weight_regularizer\n",
        "        self.dropout_regularizer = dropout_regularizer\n",
        "        self.is_mc_dropout = is_mc_dropout\n",
        "        self.supports_masking = True\n",
        "        self.p_logit = None\n",
        "        self.p = None\n",
        "        self.init_min = np.log(init_min) - np.log(1. - init_min)\n",
        "        self.init_max = np.log(init_max) - np.log(1. - init_max)\n",
        "\n",
        "    def build(self, input_shape=None):\n",
        "        self.input_spec = InputSpec(shape=input_shape)\n",
        "        if not self.layer.built:\n",
        "            self.layer.build(input_shape)\n",
        "            self.layer.built = True\n",
        "        super(ConcreteDropout, self).build()  # this is very weird.. we must call super before we add new losses\n",
        "\n",
        "        # initialise p\n",
        "        self.p_logit = self.layer.add_weight(name='p_logit',\n",
        "                                            shape=(1,),\n",
        "                                            initializer=initializers.RandomUniform(self.init_min, self.init_max),\n",
        "                                            trainable=True)\n",
        "        self.p = K.sigmoid(self.p_logit[0])\n",
        "\n",
        "        # initialise regulariser / prior KL term\n",
        "        assert len(input_shape) == 2, 'this wrapper only supports Dense layers'\n",
        "        input_dim = np.prod(input_shape[-1])  # we drop only last dim\n",
        "        weight = self.layer.kernel\n",
        "        kernel_regularizer = self.weight_regularizer * K.sum(K.square(weight)) / (1. - self.p)\n",
        "        dropout_regularizer = self.p * K.log(self.p)\n",
        "        dropout_regularizer += (1. - self.p) * K.log(1. - self.p)\n",
        "        dropout_regularizer *= self.dropout_regularizer * input_dim\n",
        "        regularizer = K.sum(kernel_regularizer + dropout_regularizer)\n",
        "        self.layer.add_loss(regularizer)\n",
        "\n",
        "    def compute_output_shape(self, input_shape):\n",
        "        return self.layer.compute_output_shape(input_shape)\n",
        "\n",
        "    def concrete_dropout(self, x):\n",
        "        '''\n",
        "        Concrete dropout - used at training time (gradients can be propagated)\n",
        "        :param x: input\n",
        "        :return:  approx. dropped out input\n",
        "        '''\n",
        "        eps = K.cast_to_floatx(K.epsilon())\n",
        "        temp = 0.1\n",
        "\n",
        "        unif_noise = K.random_uniform(shape=K.shape(x))\n",
        "        drop_prob = (\n",
        "            K.log(self.p + eps)\n",
        "            - K.log(1. - self.p + eps)\n",
        "            + K.log(unif_noise + eps)\n",
        "            - K.log(1. - unif_noise + eps)\n",
        "        )\n",
        "        drop_prob = K.sigmoid(drop_prob / temp)\n",
        "        random_tensor = 1. - drop_prob\n",
        "\n",
        "        retain_prob = 1. - self.p\n",
        "        x *= random_tensor\n",
        "        x /= retain_prob\n",
        "        return x\n",
        "\n",
        "    def call(self, inputs, training=None):\n",
        "        if self.is_mc_dropout:\n",
        "            return self.layer.call(self.concrete_dropout(inputs))\n",
        "        else:\n",
        "            def relaxed_dropped_inputs():\n",
        "                return self.layer.call(self.concrete_dropout(inputs))\n",
        "            return K.in_train_phase(relaxed_dropped_inputs,\n",
        "                                    self.layer.call(inputs),\n",
        "                                    training=training)"
      ],
      "execution_count": 0,
      "outputs": []
    },
    {
      "cell_type": "markdown",
      "metadata": {
        "id": "T24MBFtCh-Qa",
        "colab_type": "text"
      },
      "source": [
        "# Mnist"
      ]
    },
    {
      "cell_type": "code",
      "metadata": {
        "id": "84pFTqGEk6Z3",
        "colab_type": "code",
        "outputId": "34c6e185-ee77-458e-9f15-f1aaf910e847",
        "colab": {
          "base_uri": "https://localhost:8080/",
          "height": 102
        }
      },
      "source": [
        "batch_size = 128\n",
        "num_classes = 10\n",
        "epochs = 5\n",
        "\n",
        "# input image dimensions\n",
        "img_rows, img_cols = 28, 28\n",
        "\n",
        "# the data, split between train and test sets\n",
        "(x_train, y_train), (x_test, y_test) = mnist.load_data()\n",
        "\n",
        "if K.image_data_format() == 'channels_first':\n",
        "    x_train = x_train.reshape(x_train.shape[0], 1, img_rows, img_cols)\n",
        "    x_test = x_test.reshape(x_test.shape[0], 1, img_rows, img_cols)\n",
        "    input_shape = (1, img_rows, img_cols)\n",
        "else:\n",
        "    x_train = x_train.reshape(x_train.shape[0], img_rows, img_cols, 1)\n",
        "    x_test = x_test.reshape(x_test.shape[0], img_rows, img_cols, 1)\n",
        "    input_shape = (img_rows, img_cols, 1)\n",
        "\n",
        "x_train = x_train.astype('float32')\n",
        "x_test = x_test.astype('float32')\n",
        "x_train /= 255\n",
        "x_test /= 255\n",
        "print('x_train shape:', x_train.shape)\n",
        "print(x_train.shape[0], 'train samples')\n",
        "print(x_test.shape[0], 'test samples')\n",
        "\n",
        "# convert class vectors to binary class matrices\n",
        "y_train = keras.utils.to_categorical(y_train, num_classes)\n",
        "y_test = keras.utils.to_categorical(y_test, num_classes)"
      ],
      "execution_count": 0,
      "outputs": [
        {
          "output_type": "stream",
          "text": [
            "Downloading data from https://s3.amazonaws.com/img-datasets/mnist.npz\n",
            "11493376/11490434 [==============================] - 7s 1us/step\n",
            "x_train shape: (60000, 28, 28, 1)\n",
            "60000 train samples\n",
            "10000 test samples\n"
          ],
          "name": "stdout"
        }
      ]
    },
    {
      "cell_type": "code",
      "metadata": {
        "id": "I_Fx_EQQlFms",
        "colab_type": "code",
        "outputId": "b9bdc0f8-7be6-4284-8a32-deafd3d34258",
        "colab": {
          "base_uri": "https://localhost:8080/",
          "height": 34
        }
      },
      "source": [
        "y_train.shape"
      ],
      "execution_count": 0,
      "outputs": [
        {
          "output_type": "execute_result",
          "data": {
            "text/plain": [
              "(60000, 10)"
            ]
          },
          "metadata": {
            "tags": []
          },
          "execution_count": 10
        }
      ]
    },
    {
      "cell_type": "code",
      "metadata": {
        "id": "EAQCRkKIvNow",
        "colab_type": "code",
        "outputId": "f19f85f2-f39a-43ab-a511-91ca699fe1b6",
        "colab": {
          "base_uri": "https://localhost:8080/",
          "height": 785
        }
      },
      "source": [
        "N = len(x_train)\n",
        "wd = 1e-2 / N\n",
        "dd = 2. / N\n",
        "model = Sequential()\n",
        "model.add(SpatialConcreteDropout(Conv2D(32, kernel_size=(3, 3),\n",
        "                                        activation='relu'),\n",
        "                                 weight_regularizer=wd, dropout_regularizer=dd,\n",
        "                                 input_shape=input_shape))\n",
        "model.add(SpatialConcreteDropout(Conv2D(64, (3, 3), activation='relu'),\n",
        "                                 weight_regularizer=wd, dropout_regularizer=dd))\n",
        "model.add(MaxPooling2D(pool_size=(2, 2)))\n",
        "model.add(Flatten())\n",
        "model.add(ConcreteDropout(Dense(128, activation='relu'), \n",
        "                          weight_regularizer=wd, dropout_regularizer=dd))\n",
        "model.add(ConcreteDropout(Dense(num_classes, activation='softmax'), \n",
        "                          weight_regularizer=wd, dropout_regularizer=dd))\n",
        "\n",
        "model.compile(loss=keras.losses.categorical_crossentropy,\n",
        "              optimizer=keras.optimizers.Adadelta(),\n",
        "              metrics=['accuracy'])\n",
        "\n",
        "model.fit(x_train, y_train,\n",
        "          batch_size=batch_size,\n",
        "          epochs=epochs,\n",
        "          verbose=1,\n",
        "          validation_data=(x_test, y_test))\n",
        "score = model.evaluate(x_test, y_test, verbose=0)\n",
        "print('Test loss:', score[0])\n",
        "print('Test accuracy:', score[1])"
      ],
      "execution_count": 0,
      "outputs": [
        {
          "output_type": "stream",
          "text": [
            "WARNING:tensorflow:From /usr/local/lib/python3.6/dist-packages/keras/backend/tensorflow_backend.py:74: The name tf.get_default_graph is deprecated. Please use tf.compat.v1.get_default_graph instead.\n",
            "\n",
            "WARNING:tensorflow:From /usr/local/lib/python3.6/dist-packages/keras/backend/tensorflow_backend.py:517: The name tf.placeholder is deprecated. Please use tf.compat.v1.placeholder instead.\n",
            "\n",
            "WARNING:tensorflow:From /usr/local/lib/python3.6/dist-packages/keras/backend/tensorflow_backend.py:4138: The name tf.random_uniform is deprecated. Please use tf.random.uniform instead.\n",
            "\n",
            "WARNING:tensorflow:From /usr/local/lib/python3.6/dist-packages/keras/backend/tensorflow_backend.py:1521: The name tf.log is deprecated. Please use tf.math.log instead.\n",
            "\n",
            "WARNING:tensorflow:From /usr/local/lib/python3.6/dist-packages/keras/backend/tensorflow_backend.py:3976: The name tf.nn.max_pool is deprecated. Please use tf.nn.max_pool2d instead.\n",
            "\n",
            "WARNING:tensorflow:From /usr/local/lib/python3.6/dist-packages/keras/optimizers.py:790: The name tf.train.Optimizer is deprecated. Please use tf.compat.v1.train.Optimizer instead.\n",
            "\n",
            "WARNING:tensorflow:From /usr/local/lib/python3.6/dist-packages/tensorflow_core/python/ops/math_grad.py:1424: where (from tensorflow.python.ops.array_ops) is deprecated and will be removed in a future version.\n",
            "Instructions for updating:\n",
            "Use tf.where in 2.0, which has the same broadcast rule as np.where\n",
            "WARNING:tensorflow:From /usr/local/lib/python3.6/dist-packages/keras/backend/tensorflow_backend.py:986: The name tf.assign_add is deprecated. Please use tf.compat.v1.assign_add instead.\n",
            "\n",
            "WARNING:tensorflow:From /usr/local/lib/python3.6/dist-packages/keras/backend/tensorflow_backend.py:973: The name tf.assign is deprecated. Please use tf.compat.v1.assign instead.\n",
            "\n",
            "WARNING:tensorflow:From /usr/local/lib/python3.6/dist-packages/keras/backend/tensorflow_backend.py:2741: The name tf.Session is deprecated. Please use tf.compat.v1.Session instead.\n",
            "\n",
            "Train on 60000 samples, validate on 10000 samples\n",
            "Epoch 1/5\n",
            "WARNING:tensorflow:From /usr/local/lib/python3.6/dist-packages/keras/backend/tensorflow_backend.py:174: The name tf.get_default_session is deprecated. Please use tf.compat.v1.get_default_session instead.\n",
            "\n",
            "WARNING:tensorflow:From /usr/local/lib/python3.6/dist-packages/keras/backend/tensorflow_backend.py:181: The name tf.ConfigProto is deprecated. Please use tf.compat.v1.ConfigProto instead.\n",
            "\n",
            "WARNING:tensorflow:From /usr/local/lib/python3.6/dist-packages/keras/backend/tensorflow_backend.py:190: The name tf.global_variables is deprecated. Please use tf.compat.v1.global_variables instead.\n",
            "\n",
            "WARNING:tensorflow:From /usr/local/lib/python3.6/dist-packages/keras/backend/tensorflow_backend.py:199: The name tf.is_variable_initialized is deprecated. Please use tf.compat.v1.is_variable_initialized instead.\n",
            "\n",
            "WARNING:tensorflow:From /usr/local/lib/python3.6/dist-packages/keras/backend/tensorflow_backend.py:206: The name tf.variables_initializer is deprecated. Please use tf.compat.v1.variables_initializer instead.\n",
            "\n",
            "60000/60000 [==============================] - 12s 208us/step - loss: 0.1203 - acc: 0.9316 - val_loss: -0.0552 - val_acc: 0.9667\n",
            "Epoch 2/5\n",
            "60000/60000 [==============================] - 5s 84us/step - loss: -0.1168 - acc: 0.9796 - val_loss: -0.1499 - val_acc: 0.9833\n",
            "Epoch 3/5\n",
            "60000/60000 [==============================] - 5s 84us/step - loss: -0.1623 - acc: 0.9858 - val_loss: -0.1651 - val_acc: 0.9856\n",
            "Epoch 4/5\n",
            "60000/60000 [==============================] - 5s 84us/step - loss: -0.1750 - acc: 0.9890 - val_loss: -0.1738 - val_acc: 0.9891\n",
            "Epoch 5/5\n",
            "60000/60000 [==============================] - 5s 82us/step - loss: -0.1831 - acc: 0.9910 - val_loss: -0.1734 - val_acc: 0.9873\n",
            "Test loss: -0.17395257971286773\n",
            "Test accuracy: 0.9874\n"
          ],
          "name": "stdout"
        }
      ]
    },
    {
      "cell_type": "code",
      "metadata": {
        "id": "o_lxRrZiw0hU",
        "colab_type": "code",
        "outputId": "f4770749-5691-429f-c666-0d53f47da80b",
        "colab": {
          "base_uri": "https://localhost:8080/",
          "height": 34
        }
      },
      "source": [
        "ps = np.array([K.eval(layer.p) for layer in model.layers if hasattr(layer, 'p')])\n",
        "print(ps)"
      ],
      "execution_count": 0,
      "outputs": [
        {
          "output_type": "stream",
          "text": [
            "[0.01231672 0.03805816 0.47232345 0.05121954]\n"
          ],
          "name": "stdout"
        }
      ]
    },
    {
      "cell_type": "markdown",
      "metadata": {
        "id": "-wmre8XUxoOO",
        "colab_type": "text"
      },
      "source": [
        "# Mergers"
      ]
    },
    {
      "cell_type": "code",
      "metadata": {
        "id": "WcRTHhSmyLWo",
        "colab_type": "code",
        "outputId": "ca10136e-f542-4337-f8f2-b12a07770d3e",
        "colab": {
          "base_uri": "https://localhost:8080/",
          "height": 122
        }
      },
      "source": [
        "from google.colab import drive\n",
        "drive.mount('/content/drive')"
      ],
      "execution_count": 0,
      "outputs": [
        {
          "output_type": "stream",
          "text": [
            "Go to this URL in a browser: https://accounts.google.com/o/oauth2/auth?client_id=947318989803-6bn6qk8qdgf4n4g3pfee6491hc0brc4i.apps.googleusercontent.com&redirect_uri=urn%3aietf%3awg%3aoauth%3a2.0%3aoob&response_type=code&scope=email%20https%3a%2f%2fwww.googleapis.com%2fauth%2fdocs.test%20https%3a%2f%2fwww.googleapis.com%2fauth%2fdrive%20https%3a%2f%2fwww.googleapis.com%2fauth%2fdrive.photos.readonly%20https%3a%2f%2fwww.googleapis.com%2fauth%2fpeopleapi.readonly\n",
            "\n",
            "Enter your authorization code:\n",
            "··········\n",
            "Mounted at /content/drive\n"
          ],
          "name": "stdout"
        }
      ]
    },
    {
      "cell_type": "code",
      "metadata": {
        "id": "3_W7vAqQxpPE",
        "colab_type": "code",
        "colab": {}
      },
      "source": [
        "# ------------------------------------------------------------------------------\n",
        "# Input variables\n",
        "# ------------------------------------------------------------------------------\n",
        "\n",
        "# training variables\n",
        "# 70:10:20 for training:valid:test\n",
        "nb_train = 10799\n",
        "nb_valid = 1542\n",
        "nb_test = 3085\n",
        "nb_epoch = 200\n",
        "nb_classes = 2\n",
        "batch_size = 128\n",
        "shuffle = True\n",
        "\n",
        "# data locations\n",
        "# pristine images\n",
        "# for noisy images change SB00 to SB25 in all files that contain this part in their name\n",
        "file_x_data = \"/content/drive/My Drive/DeepMergeFiles/SB00_augmented.npy\" # x data (images)\n",
        "file_y_data = \"/content/drive/My Drive/DeepMergeFiles/SB00_augmented_y.npy\" # y data (labels) "
      ],
      "execution_count": 0,
      "outputs": []
    },
    {
      "cell_type": "code",
      "metadata": {
        "id": "jmrfXsSfxrQb",
        "colab_type": "code",
        "colab": {}
      },
      "source": [
        "# load data, all filters\n",
        "x_data = np.load(file_x_data)\n",
        "y_data = np.load(file_y_data)"
      ],
      "execution_count": 0,
      "outputs": []
    },
    {
      "cell_type": "code",
      "metadata": {
        "id": "MCV4jIejxrZF",
        "colab_type": "code",
        "outputId": "eeee2f66-a819-47fe-d35f-1d5febd809fd",
        "colab": {
          "base_uri": "https://localhost:8080/",
          "height": 102
        }
      },
      "source": [
        "# ------------------------------------------------------------------------------\n",
        "# Read in Data\n",
        "# ------------------------------------------------------------------------------\n",
        "\n",
        "#every day we shufflin\n",
        "random.seed(5)\n",
        "idx = np.random.choice(len(x_data), size=len(x_data), replace=False)\n",
        "x_data = x_data[idx]\n",
        "y_data = y_data[idx]\n",
        "\n",
        "\n",
        "\n",
        "# check data sizes\n",
        "statement =  \"#TrainingSamples + #ValidSamples #TestSamples > TotalSamples, exiting!!!\"\n",
        "nb_total = nb_train + nb_test + nb_valid\n",
        "assert nb_total <= len(x_data), statement\n",
        "\n",
        "# indices for where to slice the arrays\n",
        "ind_valid_start = ind_train_end = nb_train\n",
        "ind_valid_end = ind_test_start = nb_train + nb_valid\n",
        "ind_test_end = nb_train + nb_valid + nb_test\n",
        "\n",
        "# slice the image arrays\n",
        "x_train = x_data[:ind_train_end, :, :, :]\n",
        "x_valid = x_data[ind_valid_start: ind_valid_end, :, :, :]\n",
        "x_test = x_data[ind_test_start: ind_test_end, :, :, :]\n",
        "\n",
        "# slice the label arrays\n",
        "y_train = y_data[:ind_train_end]\n",
        "y_valid = y_data[ind_valid_start: ind_valid_end]\n",
        "y_test = y_data[ind_test_start: ind_test_end]\n",
        "\n",
        "# cast data types\n",
        "x_train = x_train.astype('float32')\n",
        "x_valid = x_valid.astype('float32')\n",
        "x_test = x_test.astype('float32')\n",
        "\n",
        "\n",
        "print( \"Data dimensions: \")\n",
        "print( \"Input data: \", np.shape(x_data), np.shape(y_data))\n",
        "print( \"Training set: \", np.shape(x_train), np.shape(y_train))\n",
        "print( \"Validation set: \", np.shape(x_valid), np.shape(y_valid))\n",
        "print( \"Test Set: \", np.shape(x_test), np.shape(y_test))"
      ],
      "execution_count": 0,
      "outputs": [
        {
          "output_type": "stream",
          "text": [
            "Data dimensions: \n",
            "Input data:  (15426, 2, 75, 75) (15426,)\n",
            "Training set:  (10799, 2, 75, 75) (10799,)\n",
            "Validation set:  (1542, 2, 75, 75) (1542,)\n",
            "Test Set:  (3085, 2, 75, 75) (3085,)\n"
          ],
          "name": "stdout"
        }
      ]
    },
    {
      "cell_type": "code",
      "metadata": {
        "id": "Ct3ohTjdl0SV",
        "colab_type": "code",
        "outputId": "0776d1f5-7b8a-4956-b2a8-e65aa9973cc8",
        "colab": {
          "base_uri": "https://localhost:8080/",
          "height": 204
        }
      },
      "source": [
        "print(y_train[:10])\n",
        "\n",
        "y_train = to_categorical(y_train)\n",
        "y_test = to_categorical(y_test)\n",
        "y_valid = to_categorical(y_valid)\n",
        "\n",
        "print(y_train[:10]) #[nonmerger,merger])"
      ],
      "execution_count": 0,
      "outputs": [
        {
          "output_type": "stream",
          "text": [
            "[0. 1. 0. 0. 1. 0. 0. 0. 0. 1.]\n",
            "[[1. 0.]\n",
            " [0. 1.]\n",
            " [1. 0.]\n",
            " [1. 0.]\n",
            " [0. 1.]\n",
            " [1. 0.]\n",
            " [1. 0.]\n",
            " [1. 0.]\n",
            " [1. 0.]\n",
            " [0. 1.]]\n"
          ],
          "name": "stdout"
        }
      ]
    },
    {
      "cell_type": "code",
      "metadata": {
        "id": "LoAriewkxrcZ",
        "colab_type": "code",
        "outputId": "574a4d01-47bf-4632-c495-e1db770cb934",
        "colab": {
          "base_uri": "https://localhost:8080/",
          "height": 1000
        }
      },
      "source": [
        "batch_size = 128\n",
        "num_classes = 2\n",
        "epochs = 200\n",
        "\n",
        "# input image dimensions\n",
        "img_rows, img_cols = 75, 75\n",
        "\n",
        "K.set_image_data_format('channels_first')\n",
        "\n",
        "if K.image_data_format() == 'channels_first':\n",
        "#    x_train = x_train.reshape(x_train.shape[0], 1, img_rows, img_cols)\n",
        "#    x_test = x_test.reshape(x_test.shape[0], 1, img_rows, img_cols)\n",
        "    input_shape = (2, img_rows, img_cols)\n",
        "else:\n",
        "#    x_train = x_train.reshape(x_train.shape[0], img_rows, img_cols, 1)\n",
        "#    x_test = x_test.reshape(x_test.shape[0], img_rows, img_cols, 1)\n",
        "    input_shape = (img_rows, img_cols, 2)\n",
        "\n",
        "print('x_train shape:', x_train.shape)\n",
        "print(x_train.shape[0], 'train samples')\n",
        "print(x_test.shape[0], 'test samples')\n",
        "\n",
        "N = len(x_train)\n",
        "wd = 1e-3 / N #try other prior length scales, originaly in the code fro MNIST 1e-2\n",
        "dd = 1. / N #not sure if i should use 1/N or 2/N for cross entropy loss\n",
        "#originaly in the code it was 2/N but in the paper they say we should put 1\n",
        "model = Sequential()\n",
        "model.add(SpatialConcreteDropout(Conv2D(8, kernel_size=(5, 5),\n",
        "                                        activation='relu'),\n",
        "                                 weight_regularizer=wd, dropout_regularizer=dd,\n",
        "                                 input_shape=input_shape))\n",
        "                                \n",
        "model.add(BatchNormalization())\n",
        "model.add(MaxPooling2D(pool_size=(2, 2)))\n",
        "\n",
        "\n",
        "model.add(SpatialConcreteDropout(Conv2D(16, kernel_size=(3, 3),\n",
        "                                        activation='relu'),\n",
        "                                 weight_regularizer=wd, dropout_regularizer=dd))\n",
        "\n",
        "model.add(BatchNormalization())\n",
        "model.add(MaxPooling2D(pool_size=(2, 2)))\n",
        "\n",
        "\n",
        "\n",
        "model.add(SpatialConcreteDropout(Conv2D(32, kernel_size=(3, 3),\n",
        "                                        activation='relu'),\n",
        "                                 weight_regularizer=wd, dropout_regularizer=dd))\n",
        "\n",
        "model.add(BatchNormalization())\n",
        "model.add(MaxPooling2D(pool_size=(2, 2)))\n",
        "\n",
        "\n",
        "model.add(Flatten())\n",
        "model.add(ConcreteDropout(Dense(64, activation='softmax'), \n",
        "                          weight_regularizer=wd, dropout_regularizer=dd))\n",
        "model.add(ConcreteDropout(Dense(32, activation='softmax'), \n",
        "                          weight_regularizer=wd, dropout_regularizer=dd))\n",
        "model.add(ConcreteDropout(Dense(num_classes, activation='softmax'), \n",
        "                          weight_regularizer=wd, dropout_regularizer=dd))\n",
        "\n",
        "model.compile(loss=keras.losses.categorical_crossentropy,\n",
        "              optimizer=keras.optimizers.Adam(),\n",
        "              metrics=['accuracy'])\n",
        "model.summary()"
      ],
      "execution_count": 0,
      "outputs": [
        {
          "output_type": "stream",
          "text": [
            "x_train shape: (10799, 2, 75, 75)\n",
            "10799 train samples\n",
            "3085 test samples\n",
            "WARNING:tensorflow:From /usr/local/lib/python3.6/dist-packages/keras/backend/tensorflow_backend.py:74: The name tf.get_default_graph is deprecated. Please use tf.compat.v1.get_default_graph instead.\n",
            "\n",
            "WARNING:tensorflow:From /usr/local/lib/python3.6/dist-packages/keras/backend/tensorflow_backend.py:517: The name tf.placeholder is deprecated. Please use tf.compat.v1.placeholder instead.\n",
            "\n",
            "WARNING:tensorflow:From /usr/local/lib/python3.6/dist-packages/keras/backend/tensorflow_backend.py:4138: The name tf.random_uniform is deprecated. Please use tf.random.uniform instead.\n",
            "\n",
            "WARNING:tensorflow:From /usr/local/lib/python3.6/dist-packages/keras/backend/tensorflow_backend.py:1521: The name tf.log is deprecated. Please use tf.math.log instead.\n",
            "\n",
            "WARNING:tensorflow:From /usr/local/lib/python3.6/dist-packages/keras/backend/tensorflow_backend.py:174: The name tf.get_default_session is deprecated. Please use tf.compat.v1.get_default_session instead.\n",
            "\n",
            "WARNING:tensorflow:From /usr/local/lib/python3.6/dist-packages/keras/backend/tensorflow_backend.py:181: The name tf.ConfigProto is deprecated. Please use tf.compat.v1.ConfigProto instead.\n",
            "\n",
            "WARNING:tensorflow:From /usr/local/lib/python3.6/dist-packages/keras/backend/tensorflow_backend.py:186: The name tf.Session is deprecated. Please use tf.compat.v1.Session instead.\n",
            "\n",
            "WARNING:tensorflow:From /usr/local/lib/python3.6/dist-packages/keras/backend/tensorflow_backend.py:190: The name tf.global_variables is deprecated. Please use tf.compat.v1.global_variables instead.\n",
            "\n",
            "WARNING:tensorflow:From /usr/local/lib/python3.6/dist-packages/keras/backend/tensorflow_backend.py:199: The name tf.is_variable_initialized is deprecated. Please use tf.compat.v1.is_variable_initialized instead.\n",
            "\n",
            "WARNING:tensorflow:From /usr/local/lib/python3.6/dist-packages/keras/backend/tensorflow_backend.py:206: The name tf.variables_initializer is deprecated. Please use tf.compat.v1.variables_initializer instead.\n",
            "\n",
            "WARNING:tensorflow:From /usr/local/lib/python3.6/dist-packages/keras/backend/tensorflow_backend.py:1834: The name tf.nn.fused_batch_norm is deprecated. Please use tf.compat.v1.nn.fused_batch_norm instead.\n",
            "\n",
            "WARNING:tensorflow:From /usr/local/lib/python3.6/dist-packages/keras/backend/tensorflow_backend.py:133: The name tf.placeholder_with_default is deprecated. Please use tf.compat.v1.placeholder_with_default instead.\n",
            "\n",
            "WARNING:tensorflow:From /usr/local/lib/python3.6/dist-packages/keras/backend/tensorflow_backend.py:3976: The name tf.nn.max_pool is deprecated. Please use tf.nn.max_pool2d instead.\n",
            "\n",
            "WARNING:tensorflow:From /usr/local/lib/python3.6/dist-packages/keras/optimizers.py:790: The name tf.train.Optimizer is deprecated. Please use tf.compat.v1.train.Optimizer instead.\n",
            "\n",
            "_________________________________________________________________\n",
            "Layer (type)                 Output Shape              Param #   \n",
            "=================================================================\n",
            "spatial_concrete_dropout_1 ( (None, 8, 71, 71)         409       \n",
            "_________________________________________________________________\n",
            "batch_normalization_1 (Batch (None, 8, 71, 71)         284       \n",
            "_________________________________________________________________\n",
            "max_pooling2d_1 (MaxPooling2 (None, 8, 35, 35)         0         \n",
            "_________________________________________________________________\n",
            "spatial_concrete_dropout_2 ( (None, 16, 33, 33)        1169      \n",
            "_________________________________________________________________\n",
            "batch_normalization_2 (Batch (None, 16, 33, 33)        132       \n",
            "_________________________________________________________________\n",
            "max_pooling2d_2 (MaxPooling2 (None, 16, 16, 16)        0         \n",
            "_________________________________________________________________\n",
            "spatial_concrete_dropout_3 ( (None, 32, 14, 14)        4641      \n",
            "_________________________________________________________________\n",
            "batch_normalization_3 (Batch (None, 32, 14, 14)        56        \n",
            "_________________________________________________________________\n",
            "max_pooling2d_3 (MaxPooling2 (None, 32, 7, 7)          0         \n",
            "_________________________________________________________________\n",
            "flatten_1 (Flatten)          (None, 1568)              0         \n",
            "_________________________________________________________________\n",
            "concrete_dropout_1 (Concrete (None, 64)                100417    \n",
            "_________________________________________________________________\n",
            "concrete_dropout_2 (Concrete (None, 32)                2081      \n",
            "_________________________________________________________________\n",
            "concrete_dropout_3 (Concrete (None, 2)                 67        \n",
            "=================================================================\n",
            "Total params: 109,256\n",
            "Trainable params: 109,020\n",
            "Non-trainable params: 236\n",
            "_________________________________________________________________\n"
          ],
          "name": "stdout"
        }
      ]
    },
    {
      "cell_type": "code",
      "metadata": {
        "id": "36oODrEAN6tb",
        "colab_type": "code",
        "colab": {}
      },
      "source": [
        "# data locations\n",
        "dir_test = \"/content/drive/My Drive/Colab Notebooks/model/\"\n",
        "f_model = dir_test + \"SB00_model.json\" # model data (architecture)\n",
        "f_history = dir_test + \"SB00_history.json\" # training history \n",
        "f_weights = dir_test + \"SB00_weights.h5\" # model data (final weights)\n",
        "f_best_weights = dir_test + \"SB00_best_weights.h5\" # model data (best weights, give highest validation accuracy)"
      ],
      "execution_count": 0,
      "outputs": []
    },
    {
      "cell_type": "code",
      "metadata": {
        "id": "tLp-F7giyZNV",
        "colab_type": "code",
        "outputId": "dc97489b-8c64-40fc-f8f7-f0a44b473b6f",
        "colab": {
          "base_uri": "https://localhost:8080/",
          "height": 1000
        }
      },
      "source": [
        "es = [EarlyStopping(monitor='val_loss', mode='min', verbose=1, patience=30),\n",
        "     ModelCheckpoint(f_best_weights, monitor='val_acc', mode='max', verbose=1, save_best_only=True)]\n",
        "\n",
        "history = model.fit(x_train, y_train,\n",
        "          batch_size=batch_size,\n",
        "          epochs=epochs,\n",
        "          verbose=1,\n",
        "          validation_data=(x_valid, y_valid),\n",
        "          callbacks=es)\n",
        "score = model.evaluate(x_test, y_test, verbose=0)\n",
        "print('Test loss:', score[0])\n",
        "print('Test accuracy:', score[1])\n",
        "\n",
        "# Save data\n",
        "model.save_weights(f_weights, overwrite=True)\n",
        "open(f_model, 'w').write(model.to_json())\n",
        "\n",
        "#Saving history for future use\n",
        "with open(f_history, 'w') as f:\n",
        "    json.dump(history.history, f)"
      ],
      "execution_count": 0,
      "outputs": [
        {
          "output_type": "stream",
          "text": [
            "Train on 10799 samples, validate on 1542 samples\n",
            "Epoch 1/200\n",
            "10799/10799 [==============================] - 4s 325us/step - loss: 0.6362 - acc: 0.5163 - val_loss: 0.6316 - val_acc: 0.5279\n",
            "\n",
            "Epoch 00001: val_acc improved from -inf to 0.52789, saving model to /content/drive/My Drive/Colab Notebooks/model/SB00_best_weights.h5\n",
            "Epoch 2/200\n",
            "10799/10799 [==============================] - 2s 140us/step - loss: 0.6268 - acc: 0.5573 - val_loss: 0.6216 - val_acc: 0.5674\n",
            "\n",
            "Epoch 00002: val_acc improved from 0.52789 to 0.56744, saving model to /content/drive/My Drive/Colab Notebooks/model/SB00_best_weights.h5\n",
            "Epoch 3/200\n",
            "10799/10799 [==============================] - 2s 144us/step - loss: 0.6141 - acc: 0.6216 - val_loss: 0.6046 - val_acc: 0.6608\n",
            "\n",
            "Epoch 00003: val_acc improved from 0.56744 to 0.66083, saving model to /content/drive/My Drive/Colab Notebooks/model/SB00_best_weights.h5\n",
            "Epoch 4/200\n",
            "10799/10799 [==============================] - 2s 144us/step - loss: 0.5975 - acc: 0.6570 - val_loss: 0.5980 - val_acc: 0.6297\n",
            "\n",
            "Epoch 00004: val_acc did not improve from 0.66083\n",
            "Epoch 5/200\n",
            "10799/10799 [==============================] - 2s 141us/step - loss: 0.5794 - acc: 0.6649 - val_loss: 0.5747 - val_acc: 0.6505\n",
            "\n",
            "Epoch 00005: val_acc did not improve from 0.66083\n",
            "Epoch 6/200\n",
            "10799/10799 [==============================] - 2s 145us/step - loss: 0.5577 - acc: 0.6867 - val_loss: 0.5562 - val_acc: 0.6654\n",
            "\n",
            "Epoch 00006: val_acc improved from 0.66083 to 0.66537, saving model to /content/drive/My Drive/Colab Notebooks/model/SB00_best_weights.h5\n",
            "Epoch 7/200\n",
            "10799/10799 [==============================] - 2s 145us/step - loss: 0.5445 - acc: 0.6890 - val_loss: 0.5515 - val_acc: 0.6693\n",
            "\n",
            "Epoch 00007: val_acc improved from 0.66537 to 0.66926, saving model to /content/drive/My Drive/Colab Notebooks/model/SB00_best_weights.h5\n",
            "Epoch 8/200\n",
            "10799/10799 [==============================] - 2s 142us/step - loss: 0.5307 - acc: 0.6924 - val_loss: 0.5511 - val_acc: 0.6576\n",
            "\n",
            "Epoch 00008: val_acc did not improve from 0.66926\n",
            "Epoch 9/200\n",
            "10799/10799 [==============================] - 2s 142us/step - loss: 0.5224 - acc: 0.6970 - val_loss: 0.5962 - val_acc: 0.5986\n",
            "\n",
            "Epoch 00009: val_acc did not improve from 0.66926\n",
            "Epoch 10/200\n",
            "10799/10799 [==============================] - 2s 144us/step - loss: 0.4986 - acc: 0.7170 - val_loss: 0.4996 - val_acc: 0.7010\n",
            "\n",
            "Epoch 00010: val_acc improved from 0.66926 to 0.70104, saving model to /content/drive/My Drive/Colab Notebooks/model/SB00_best_weights.h5\n",
            "Epoch 11/200\n",
            "10799/10799 [==============================] - 2s 144us/step - loss: 0.4886 - acc: 0.7182 - val_loss: 0.5101 - val_acc: 0.6868\n",
            "\n",
            "Epoch 00011: val_acc did not improve from 0.70104\n",
            "Epoch 12/200\n",
            "10799/10799 [==============================] - 2s 141us/step - loss: 0.4797 - acc: 0.7246 - val_loss: 0.4994 - val_acc: 0.7030\n",
            "\n",
            "Epoch 00012: val_acc improved from 0.70104 to 0.70298, saving model to /content/drive/My Drive/Colab Notebooks/model/SB00_best_weights.h5\n",
            "Epoch 13/200\n",
            "10799/10799 [==============================] - 2s 140us/step - loss: 0.4694 - acc: 0.7272 - val_loss: 0.5161 - val_acc: 0.6829\n",
            "\n",
            "Epoch 00013: val_acc did not improve from 0.70298\n",
            "Epoch 14/200\n",
            "10799/10799 [==============================] - 2s 141us/step - loss: 0.4577 - acc: 0.7332 - val_loss: 0.4986 - val_acc: 0.6829\n",
            "\n",
            "Epoch 00014: val_acc did not improve from 0.70298\n",
            "Epoch 15/200\n",
            "10799/10799 [==============================] - 1s 138us/step - loss: 0.4512 - acc: 0.7360 - val_loss: 0.5009 - val_acc: 0.6881\n",
            "\n",
            "Epoch 00015: val_acc did not improve from 0.70298\n",
            "Epoch 16/200\n",
            "10799/10799 [==============================] - 2s 143us/step - loss: 0.4374 - acc: 0.7421 - val_loss: 0.4760 - val_acc: 0.7030\n",
            "\n",
            "Epoch 00016: val_acc improved from 0.70298 to 0.70298, saving model to /content/drive/My Drive/Colab Notebooks/model/SB00_best_weights.h5\n",
            "Epoch 17/200\n",
            "10799/10799 [==============================] - 2s 144us/step - loss: 0.4331 - acc: 0.7433 - val_loss: 0.4655 - val_acc: 0.7153\n",
            "\n",
            "Epoch 00017: val_acc improved from 0.70298 to 0.71530, saving model to /content/drive/My Drive/Colab Notebooks/model/SB00_best_weights.h5\n",
            "Epoch 18/200\n",
            "10799/10799 [==============================] - 2s 145us/step - loss: 0.4241 - acc: 0.7553 - val_loss: 0.4502 - val_acc: 0.7438\n",
            "\n",
            "Epoch 00018: val_acc improved from 0.71530 to 0.74384, saving model to /content/drive/My Drive/Colab Notebooks/model/SB00_best_weights.h5\n",
            "Epoch 19/200\n",
            "10799/10799 [==============================] - 2s 145us/step - loss: 0.4220 - acc: 0.7471 - val_loss: 0.4558 - val_acc: 0.7185\n",
            "\n",
            "Epoch 00019: val_acc did not improve from 0.74384\n",
            "Epoch 20/200\n",
            "10799/10799 [==============================] - 2s 145us/step - loss: 0.4087 - acc: 0.7554 - val_loss: 0.4400 - val_acc: 0.7425\n",
            "\n",
            "Epoch 00020: val_acc did not improve from 0.74384\n",
            "Epoch 21/200\n",
            "10799/10799 [==============================] - 2s 140us/step - loss: 0.4152 - acc: 0.7516 - val_loss: 0.4724 - val_acc: 0.6952\n",
            "\n",
            "Epoch 00021: val_acc did not improve from 0.74384\n",
            "Epoch 22/200\n",
            "10799/10799 [==============================] - 2s 147us/step - loss: 0.4082 - acc: 0.7527 - val_loss: 0.4642 - val_acc: 0.7062\n",
            "\n",
            "Epoch 00022: val_acc did not improve from 0.74384\n",
            "Epoch 23/200\n",
            "10799/10799 [==============================] - 2s 148us/step - loss: 0.4002 - acc: 0.7547 - val_loss: 0.4607 - val_acc: 0.7244\n",
            "\n",
            "Epoch 00023: val_acc did not improve from 0.74384\n",
            "Epoch 24/200\n",
            "10799/10799 [==============================] - 2s 140us/step - loss: 0.3907 - acc: 0.7634 - val_loss: 0.4236 - val_acc: 0.7302\n",
            "\n",
            "Epoch 00024: val_acc did not improve from 0.74384\n",
            "Epoch 25/200\n",
            "10799/10799 [==============================] - 2s 141us/step - loss: 0.3880 - acc: 0.7653 - val_loss: 0.4581 - val_acc: 0.7140\n",
            "\n",
            "Epoch 00025: val_acc did not improve from 0.74384\n",
            "Epoch 26/200\n",
            "10799/10799 [==============================] - 2s 142us/step - loss: 0.3845 - acc: 0.7666 - val_loss: 0.4364 - val_acc: 0.7328\n",
            "\n",
            "Epoch 00026: val_acc did not improve from 0.74384\n",
            "Epoch 27/200\n",
            "10799/10799 [==============================] - 2s 146us/step - loss: 0.3868 - acc: 0.7659 - val_loss: 0.4693 - val_acc: 0.6738\n",
            "\n",
            "Epoch 00027: val_acc did not improve from 0.74384\n",
            "Epoch 28/200\n",
            "10799/10799 [==============================] - 2s 143us/step - loss: 0.3727 - acc: 0.7711 - val_loss: 0.4531 - val_acc: 0.7095\n",
            "\n",
            "Epoch 00028: val_acc did not improve from 0.74384\n",
            "Epoch 29/200\n",
            "10799/10799 [==============================] - 2s 139us/step - loss: 0.3733 - acc: 0.7768 - val_loss: 0.4440 - val_acc: 0.7374\n",
            "\n",
            "Epoch 00029: val_acc did not improve from 0.74384\n",
            "Epoch 30/200\n",
            "10799/10799 [==============================] - 2s 139us/step - loss: 0.3740 - acc: 0.7794 - val_loss: 0.4602 - val_acc: 0.6965\n",
            "\n",
            "Epoch 00030: val_acc did not improve from 0.74384\n",
            "Epoch 31/200\n",
            "10799/10799 [==============================] - 2s 141us/step - loss: 0.3674 - acc: 0.7773 - val_loss: 0.4403 - val_acc: 0.7335\n",
            "\n",
            "Epoch 00031: val_acc did not improve from 0.74384\n",
            "Epoch 32/200\n",
            "10799/10799 [==============================] - 2s 143us/step - loss: 0.3666 - acc: 0.7668 - val_loss: 0.4653 - val_acc: 0.6757\n",
            "\n",
            "Epoch 00032: val_acc did not improve from 0.74384\n",
            "Epoch 33/200\n",
            "10799/10799 [==============================] - 2s 142us/step - loss: 0.3656 - acc: 0.7781 - val_loss: 0.4699 - val_acc: 0.6913\n",
            "\n",
            "Epoch 00033: val_acc did not improve from 0.74384\n",
            "Epoch 34/200\n",
            "10799/10799 [==============================] - 2s 144us/step - loss: 0.3715 - acc: 0.7713 - val_loss: 0.4396 - val_acc: 0.7147\n",
            "\n",
            "Epoch 00034: val_acc did not improve from 0.74384\n",
            "Epoch 35/200\n",
            "10799/10799 [==============================] - 2s 139us/step - loss: 0.3616 - acc: 0.7790 - val_loss: 0.4317 - val_acc: 0.7529\n",
            "\n",
            "Epoch 00035: val_acc improved from 0.74384 to 0.75292, saving model to /content/drive/My Drive/Colab Notebooks/model/SB00_best_weights.h5\n",
            "Epoch 36/200\n",
            "10799/10799 [==============================] - 2s 144us/step - loss: 0.3581 - acc: 0.7831 - val_loss: 0.4335 - val_acc: 0.7322\n",
            "\n",
            "Epoch 00036: val_acc did not improve from 0.75292\n",
            "Epoch 37/200\n",
            "10799/10799 [==============================] - 2s 142us/step - loss: 0.3534 - acc: 0.7822 - val_loss: 0.4567 - val_acc: 0.7315\n",
            "\n",
            "Epoch 00037: val_acc did not improve from 0.75292\n",
            "Epoch 38/200\n",
            "10799/10799 [==============================] - 2s 141us/step - loss: 0.3528 - acc: 0.7865 - val_loss: 0.4469 - val_acc: 0.7309\n",
            "\n",
            "Epoch 00038: val_acc did not improve from 0.75292\n",
            "Epoch 39/200\n",
            "10799/10799 [==============================] - 2s 144us/step - loss: 0.3479 - acc: 0.7893 - val_loss: 0.4423 - val_acc: 0.6984\n",
            "\n",
            "Epoch 00039: val_acc did not improve from 0.75292\n",
            "Epoch 40/200\n",
            "10799/10799 [==============================] - 2s 141us/step - loss: 0.3535 - acc: 0.7858 - val_loss: 0.4377 - val_acc: 0.7211\n",
            "\n",
            "Epoch 00040: val_acc did not improve from 0.75292\n",
            "Epoch 41/200\n",
            "10799/10799 [==============================] - 2s 146us/step - loss: 0.3486 - acc: 0.7856 - val_loss: 0.4402 - val_acc: 0.7380\n",
            "\n",
            "Epoch 00041: val_acc did not improve from 0.75292\n",
            "Epoch 42/200\n",
            "10799/10799 [==============================] - 2s 142us/step - loss: 0.3487 - acc: 0.7842 - val_loss: 0.4644 - val_acc: 0.7224\n",
            "\n",
            "Epoch 00042: val_acc did not improve from 0.75292\n",
            "Epoch 43/200\n",
            "10799/10799 [==============================] - 2s 144us/step - loss: 0.3451 - acc: 0.7914 - val_loss: 0.4376 - val_acc: 0.7367\n",
            "\n",
            "Epoch 00043: val_acc did not improve from 0.75292\n",
            "Epoch 44/200\n",
            "10799/10799 [==============================] - 2s 142us/step - loss: 0.3400 - acc: 0.7921 - val_loss: 0.4260 - val_acc: 0.7419\n",
            "\n",
            "Epoch 00044: val_acc did not improve from 0.75292\n",
            "Epoch 45/200\n",
            "10799/10799 [==============================] - 2s 142us/step - loss: 0.3293 - acc: 0.7942 - val_loss: 0.4815 - val_acc: 0.7056\n",
            "\n",
            "Epoch 00045: val_acc did not improve from 0.75292\n",
            "Epoch 46/200\n",
            "10799/10799 [==============================] - 2s 140us/step - loss: 0.3306 - acc: 0.7916 - val_loss: 0.4266 - val_acc: 0.7412\n",
            "\n",
            "Epoch 00046: val_acc did not improve from 0.75292\n",
            "Epoch 47/200\n",
            "10799/10799 [==============================] - 2s 142us/step - loss: 0.3242 - acc: 0.8024 - val_loss: 0.4504 - val_acc: 0.7192\n",
            "\n",
            "Epoch 00047: val_acc did not improve from 0.75292\n",
            "Epoch 48/200\n",
            "10799/10799 [==============================] - 2s 144us/step - loss: 0.3227 - acc: 0.8050 - val_loss: 0.4716 - val_acc: 0.7218\n",
            "\n",
            "Epoch 00048: val_acc did not improve from 0.75292\n",
            "Epoch 49/200\n",
            "10799/10799 [==============================] - 2s 143us/step - loss: 0.3275 - acc: 0.8029 - val_loss: 0.4552 - val_acc: 0.7153\n",
            "\n",
            "Epoch 00049: val_acc did not improve from 0.75292\n",
            "Epoch 50/200\n",
            "10799/10799 [==============================] - 2s 144us/step - loss: 0.3267 - acc: 0.8018 - val_loss: 0.6029 - val_acc: 0.6232\n",
            "\n",
            "Epoch 00050: val_acc did not improve from 0.75292\n",
            "Epoch 51/200\n",
            "10799/10799 [==============================] - 2s 142us/step - loss: 0.3273 - acc: 0.7953 - val_loss: 0.4869 - val_acc: 0.7127\n",
            "\n",
            "Epoch 00051: val_acc did not improve from 0.75292\n",
            "Epoch 52/200\n",
            "10799/10799 [==============================] - 2s 144us/step - loss: 0.3174 - acc: 0.8097 - val_loss: 0.4763 - val_acc: 0.7088\n",
            "\n",
            "Epoch 00052: val_acc did not improve from 0.75292\n",
            "Epoch 53/200\n",
            "10799/10799 [==============================] - 2s 139us/step - loss: 0.3233 - acc: 0.8066 - val_loss: 0.5697 - val_acc: 0.6680\n",
            "\n",
            "Epoch 00053: val_acc did not improve from 0.75292\n",
            "Epoch 54/200\n",
            "10799/10799 [==============================] - 2s 143us/step - loss: 0.3177 - acc: 0.8044 - val_loss: 0.5328 - val_acc: 0.6595\n",
            "\n",
            "Epoch 00054: val_acc did not improve from 0.75292\n",
            "Epoch 00054: early stopping\n",
            "Test loss: 0.5560201024700022\n",
            "Test accuracy: 0.6398703404724888\n"
          ],
          "name": "stdout"
        }
      ]
    },
    {
      "cell_type": "code",
      "metadata": {
        "id": "XVyhHBstxrWi",
        "colab_type": "code",
        "outputId": "83939e94-831d-40d4-f0c9-47d3dd04bece",
        "colab": {
          "base_uri": "https://localhost:8080/",
          "height": 34
        }
      },
      "source": [
        "# dropout rates for each layer\n",
        "ps = np.array([K.eval(layer.p) for layer in model.layers if hasattr(layer, 'p')])\n",
        "print('Dropout rates for each layer: ', ps)"
      ],
      "execution_count": 0,
      "outputs": [
        {
          "output_type": "stream",
          "text": [
            "[0.03214593 0.02833138 0.02614225 0.37809587 0.01916685 0.04315095]\n"
          ],
          "name": "stdout"
        }
      ]
    },
    {
      "cell_type": "code",
      "metadata": {
        "id": "lwp2NiRCxrUC",
        "colab_type": "code",
        "outputId": "54e75564-6cce-44eb-a2ea-9e65b42f6bdf",
        "colab": {
          "base_uri": "https://localhost:8080/",
          "height": 314
        }
      },
      "source": [
        "#plotting from history\n",
        "hist = history.history\n",
        "#LOSS\n",
        "loss=hist['loss']\n",
        "val_loss=hist['val_loss']\n",
        "acc=hist['acc']\n",
        "val_acc=hist['val_acc']\n",
        "\n",
        "epochs = list(range(len(loss)))\n",
        "figsize=(6,4)\n",
        "fig, axis1 = plt.subplots(figsize=figsize)\n",
        "plot1_lacc = axis1.plot(epochs, acc, 'navy', label='accuracy')\n",
        "plot1_val_lacc = axis1.plot(epochs, val_acc, 'deepskyblue', label=\"validation accuracy\")\n",
        "\n",
        "plot1_loss = axis1.plot(epochs, loss, 'red', label='loss')\n",
        "plot1_val_loss = axis1.plot(epochs, val_loss, 'lightsalmon', label=\"validation loss\")\n",
        "\n",
        "\n",
        "plots = plot1_loss + plot1_val_loss\n",
        "labs = [l.get_label() for l in plots]\n",
        "axis1.set_xlabel('Epoch')\n",
        "axis1.set_ylabel('Loss/Accuracy')\n",
        "plt.title(\"Loss/Accuracy History (Pristine Images)\")\n",
        "plt.tight_layout()\n",
        "axis1.legend(loc='center right')"
      ],
      "execution_count": 0,
      "outputs": [
        {
          "output_type": "execute_result",
          "data": {
            "text/plain": [
              "<matplotlib.legend.Legend at 0x7f368230fb38>"
            ]
          },
          "metadata": {
            "tags": []
          },
          "execution_count": 51
        },
        {
          "output_type": "display_data",
          "data": {
            "image/png": "[encoded data removed]",
            "text/plain": [
              "<Figure size 432x288 with 1 Axes>"
            ]
          },
          "metadata": {
            "tags": []
          }
        }
      ]
    },
    {
      "cell_type": "code",
      "metadata": {
        "id": "f5W1MEAloopV",
        "colab_type": "code",
        "colab": {}
      },
      "source": [
        "prob = model.predict(x_test)"
      ],
      "execution_count": 0,
      "outputs": []
    },
    {
      "cell_type": "code",
      "metadata": {
        "id": "jow5bDjyoqJL",
        "colab_type": "code",
        "outputId": "dd7db7ad-82dd-40e2-d746-c0959fb58db1",
        "colab": {
          "base_uri": "https://localhost:8080/",
          "height": 191
        }
      },
      "source": [
        "prob[:10]"
      ],
      "execution_count": 0,
      "outputs": [
        {
          "output_type": "execute_result",
          "data": {
            "text/plain": [
              "array([[0.96052736, 0.0394727 ],\n",
              "       [0.9691901 , 0.03080985],\n",
              "       [0.9768276 , 0.0231724 ],\n",
              "       [0.00710361, 0.9928964 ],\n",
              "       [0.9823973 , 0.01760272],\n",
              "       [0.00710031, 0.99289966],\n",
              "       [0.95086265, 0.04913735],\n",
              "       [0.06043981, 0.93956023],\n",
              "       [0.9816081 , 0.01839186],\n",
              "       [0.9760125 , 0.02398754]], dtype=float32)"
            ]
          },
          "metadata": {
            "tags": []
          },
          "execution_count": 80
        }
      ]
    },
    {
      "cell_type": "code",
      "metadata": {
        "id": "tUY1jzzCo0jD",
        "colab_type": "code",
        "outputId": "efaa8897-ee06-4f12-817a-3cbe616ce1dc",
        "colab": {
          "base_uri": "https://localhost:8080/",
          "height": 191
        }
      },
      "source": [
        "pred =  (prob > 0.5).astype('int32') \n",
        "pred[:10]"
      ],
      "execution_count": 0,
      "outputs": [
        {
          "output_type": "execute_result",
          "data": {
            "text/plain": [
              "array([[1, 0],\n",
              "       [1, 0],\n",
              "       [1, 0],\n",
              "       [0, 1],\n",
              "       [1, 0],\n",
              "       [0, 1],\n",
              "       [1, 0],\n",
              "       [0, 1],\n",
              "       [1, 0],\n",
              "       [1, 0]], dtype=int32)"
            ]
          },
          "metadata": {
            "tags": []
          },
          "execution_count": 81
        }
      ]
    },
    {
      "cell_type": "code",
      "metadata": {
        "id": "jH2D0csEo8SA",
        "colab_type": "code",
        "outputId": "ffc2b323-60e6-4eae-b38c-26e89c1b4e3b",
        "colab": {
          "base_uri": "https://localhost:8080/",
          "height": 191
        }
      },
      "source": [
        "y_test[:10]"
      ],
      "execution_count": 0,
      "outputs": [
        {
          "output_type": "execute_result",
          "data": {
            "text/plain": [
              "array([[0., 1.],\n",
              "       [1., 0.],\n",
              "       [1., 0.],\n",
              "       [0., 1.],\n",
              "       [1., 0.],\n",
              "       [0., 1.],\n",
              "       [0., 1.],\n",
              "       [0., 1.],\n",
              "       [1., 0.],\n",
              "       [0., 1.]], dtype=float32)"
            ]
          },
          "metadata": {
            "tags": []
          },
          "execution_count": 82
        }
      ]
    },
    {
      "cell_type": "code",
      "metadata": {
        "id": "bQWnMysLnknB",
        "colab_type": "code",
        "outputId": "7a4f34c8-08b6-488d-bc23-9c49d3d404d9",
        "colab": {
          "base_uri": "https://localhost:8080/",
          "height": 381
        }
      },
      "source": [
        "# ------------------------------------------------------------------------------\n",
        "# Evaluate for TEST SET\n",
        "# ------------------------------------------------------------------------------\n",
        "\n",
        "# predict\n",
        "prob = model.predict(x_test)\n",
        "pred =  (prob > 0.5).astype('int32') \n",
        "\n",
        "# measure confusion\n",
        "labels=[0,1]\n",
        "cm = metrics.confusion_matrix(y_test[:,1], pred[:,1], labels=labels)\n",
        "cm = cm.astype('float')\n",
        "cm_norm = cm / cm.sum(axis=1)[:, np.newaxis]\n",
        "print(\"cm\", cm)\n",
        "print(\"cm_norm\", cm_norm)\n",
        "\n",
        "fpr, tpr, thresholds = metrics.roc_curve(y_test[:,1], prob[:,1], pos_label=1)\n",
        "auc = metrics.roc_auc_score(y_test, prob)\n",
        "print(\"AUC:\", auc)\n",
        "\n",
        "#plotting\n",
        "fig = plt.figure()\n",
        "ax = fig.add_subplot(111)\n",
        "cax = ax.matshow(cm)\n",
        "plt.title('Confusion matrix (Pristine Images)', y=1.08)\n",
        "fig.colorbar(cax)\n",
        "ax.set_xticklabels([''] + labels)\n",
        "ax.set_yticklabels([''] + labels)\n",
        "plt.xlabel('Predicted')\n",
        "plt.ylabel('True')\n",
        "fmt = '.2f'\n",
        "thresh = cm_norm.max() / 2.\n",
        "for i in range(cm_norm.shape[0]):\n",
        "    for j in range(cm_norm.shape[1]):\n",
        "        ax.text(j, i, format(cm_norm[i, j], fmt),\n",
        "        ha=\"center\", va=\"center\",\n",
        "        color=\"white\" if cm_norm[i, j] < thresh else \"black\")\n",
        "plt.show()"
      ],
      "execution_count": 0,
      "outputs": [
        {
          "output_type": "stream",
          "text": [
            "cm [[1246.  179.]\n",
            " [ 929.  731.]]\n",
            "cm_norm [[0.87438596 0.12561404]\n",
            " [0.55963855 0.44036145]]\n",
            "AUC: 0.7329536038892412\n"
          ],
          "name": "stdout"
        },
        {
          "output_type": "display_data",
          "data": {
            "image/png": "[encoded data removed]",
            "text/plain": [
              "<Figure size 432x288 with 2 Axes>"
            ]
          },
          "metadata": {
            "tags": []
          }
        }
      ]
    },
    {
      "cell_type": "code",
      "metadata": {
        "id": "lontVqrmnmjf",
        "colab_type": "code",
        "outputId": "288738ac-4c9b-4143-dbfb-3bf3ff75cd05",
        "colab": {
          "base_uri": "https://localhost:8080/",
          "height": 369
        }
      },
      "source": [
        "# ROC TEST SET\n",
        "figsize=(5,5)\n",
        "fig, axis1 = plt.subplots(figsize=figsize)\n",
        "x_onetoone = y_onetoone = [0, 1]\n",
        "plt.plot(fpr, tpr, 'r-')\n",
        "plt.plot(x_onetoone, y_onetoone, 'k--',  label=\"1-1\")\n",
        "plt.legend(loc=0)\n",
        "plt.title(\"Receiver Operator Characteristic (ROC)\")\n",
        "plt.xlabel(\"False Positive (1 - Specificity)\")\n",
        "plt.ylabel(\"True Positive (Selectivity)\")\n",
        "plt.tight_layout()"
      ],
      "execution_count": 0,
      "outputs": [
        {
          "output_type": "display_data",
          "data": {
            "image/png": "[encoded data removed]",
            "text/plain": [
              "<Figure size 360x360 with 1 Axes>"
            ]
          },
          "metadata": {
            "tags": []
          }
        }
      ]
    },
    {
      "cell_type": "code",
      "metadata": {
        "id": "-hHqOt31rvlu",
        "colab_type": "code",
        "outputId": "7df8ef7e-0a2e-4b70-b316-c3adbf0016d9",
        "colab": {
          "base_uri": "https://localhost:8080/",
          "height": 102
        }
      },
      "source": [
        "# accuracy: (tp + tn) / (p + n)\n",
        "accuracy = accuracy_score(y_test[:,1], pred[:,1])\n",
        "print('Accuracy: %f' % accuracy)\n",
        "\n",
        "# precision tp / (tp + fp)\n",
        "precision = precision_score(y_test[:,1], pred[:,1])\n",
        "print('Precision: %f' % precision)\n",
        "\n",
        "# recall: tp / (tp + fn)\n",
        "recall = recall_score(y_test[:,1], pred[:,1])\n",
        "print('Recall: %f' % recall)\n",
        "\n",
        "# f1: 2 tp / (2 tp + fp + fn)\n",
        "f1 = f1_score(y_test[:,1], pred[:,1])\n",
        "print('F1 score: %f' % f1)\n",
        "\n",
        "# brier score\n",
        "bs = brier_score_loss(y_test[:,1], prob[:,1])\n",
        "print('Brier score: %f' % bs)"
      ],
      "execution_count": 0,
      "outputs": [
        {
          "output_type": "stream",
          "text": [
            "Accuracy: 0.700486\n",
            "Precision: 0.656064\n",
            "Recall: 0.931928\n",
            "F1 score: 0.770035\n",
            "Brier score: 0.257284\n"
          ],
          "name": "stdout"
        }
      ]
    }
  ]
}